{
 "cells": [
  {
   "cell_type": "markdown",
   "id": "48fbb163-a7d7-4c34-93c1-442e061f4675",
   "metadata": {},
   "source": [
    "# Magics/magics-python/binary basic example\n",
    "\n",
    "Install ecmwlibs ( to get magics C++ library)  \n",
    "*pip install ecmwflibs*   \n",
    "Install magics-python locally   \n",
    "*pip install -e .*\n"
   ]
  },
  {
   "cell_type": "code",
   "execution_count": 1,
   "id": "20f9aa78-66d8-4714-a8a3-ed2b6d7f2401",
   "metadata": {},
   "outputs": [],
   "source": [
    "from Magics import macro as magics\n",
    "import ipywidgets as widgets\n",
    "from ipywidgets import interact"
   ]
  },
  {
   "cell_type": "code",
   "execution_count": 2,
   "id": "c14dfca8-0b30-4037-b286-6a52ec0f55af",
   "metadata": {},
   "outputs": [
    {
     "data": {
      "text/plain": [
       "'Magics 4.13.0'"
      ]
     },
     "execution_count": 2,
     "metadata": {},
     "output_type": "execute_result"
    }
   ],
   "source": [
    "magics.version()"
   ]
  },
  {
   "cell_type": "markdown",
   "id": "abd9ba3f-e8ec-46bc-86a2-5faee7669c81",
   "metadata": {},
   "source": [
    "# Classic plot using magics-python + Magics C++library \n",
    "\n",
    "May need to install ecmwflibs first   \n",
    "pip install ecmwlibs \n",
    "\n",
    "Here we create a temporary png file, and we retun an Image to display\n"
   ]
  },
  {
   "cell_type": "code",
   "execution_count": 3,
   "id": "0b2cf913-1285-43a5-8558-2d600471ff5c",
   "metadata": {},
   "outputs": [
    {
     "data": {
      "application/vnd.jupyter.widget-view+json": {
       "model_id": "8da836a3d68b4d3596209db1532a22ab",
       "version_major": 2,
       "version_minor": 0
      },
      "text/plain": [
       "interactive(children=(Dropdown(description='map_coastline_resolution', options=('medium', 'high', 'low'), styl…"
      ]
     },
     "metadata": {},
     "output_type": "display_data"
    }
   ],
   "source": [
    "\n",
    "style = {'description_width': 'initial', 'width': 'max-content'}\n",
    "\n",
    "@interact(\n",
    "    map_coastline_resolution = widgets.Dropdown(description='map_coastline_resolution', \n",
    "                                                 options = [\"medium\", \"high\", \"low\"], value='medium', \n",
    "                                                 style=style),\n",
    "    map_coastline_colour = widgets.Dropdown(description='map_coastline_colour', \n",
    "                                                 options = [\"navy\", \"evergreen\", \"charcoal\"], value='navy', \n",
    "                                                 style=style),\n",
    ")\n",
    "def plot(**kwargs):\n",
    "    coastlines = magics.mcoast(kwargs)\n",
    "    return magics.plot(coastlines)\n",
    "    \n",
    "\n",
    "    "
   ]
  },
  {
   "cell_type": "markdown",
   "id": "3de18b15-0259-46d2-a957-d85fdf63ca33",
   "metadata": {},
   "source": [
    "# Basic skeleton of the use of the binary driver in magics-python \n",
    "\n",
    "We ask MagicsC++ to create an output in *binary format*.  \n",
    "We use the binary reader to read the output, and convert to matplotlib primitives. \n"
   ]
  },
  {
   "cell_type": "code",
   "execution_count": 4,
   "id": "4082a5e5-c832-4d3d-9a36-120104b37984",
   "metadata": {},
   "outputs": [
    {
     "data": {
      "application/vnd.jupyter.widget-view+json": {
       "model_id": "69d3cb173dec4d6691e7c4e1fb180f9f",
       "version_major": 2,
       "version_minor": 0
      },
      "text/plain": [
       "interactive(children=(Dropdown(description='map_coastline_resolution', options=('medium', 'high', 'low'), styl…"
      ]
     },
     "metadata": {},
     "output_type": "display_data"
    }
   ],
   "source": [
    "@interact(\n",
    "    map_coastline_resolution = widgets.Dropdown(description='map_coastline_resolution', \n",
    "                                                 options = [\"medium\", \"high\", \"low\"], value='medium', \n",
    "                                                 style=style),\n",
    "    map_coastline_colour = widgets.Dropdown(description='map_coastline_colour', \n",
    "                                                 options = [\"navy\", \"evergreen\", \"charcoal\"], value='navy', \n",
    "                                                 style=style),\n",
    ")\n",
    "def plot(**kwargs):\n",
    "    coastlines = magics.mcoast(kwargs)\n",
    "    metadata = magics.matplotlib_plot(coastlines)\n",
    "    print (metadata)\n",
    "    "
   ]
  },
  {
   "cell_type": "markdown",
   "id": "81df013a-b9e4-4ead-9362-160fdeaca70b",
   "metadata": {},
   "source": [
    "# With some data and colorbars."
   ]
  },
  {
   "cell_type": "code",
   "execution_count": 5,
   "id": "fd21796b-fdb9-4814-842c-8c65e1304636",
   "metadata": {},
   "outputs": [
    {
     "data": {
      "application/vnd.jupyter.widget-view+json": {
       "model_id": "56f9807f152441adae917804f63f99a8",
       "version_major": 2,
       "version_minor": 0
      },
      "text/plain": [
       "interactive(children=(Dropdown(description='map_coastline_resolution', options=('medium', 'high', 'low'), styl…"
      ]
     },
     "metadata": {},
     "output_type": "display_data"
    }
   ],
   "source": [
    "import json\n",
    "\n",
    "@interact(\n",
    "    map_coastline_resolution = widgets.Dropdown(description='map_coastline_resolution', \n",
    "                                                 options = [\"medium\", \"high\", \"low\"], value='medium', \n",
    "                                                 style=style),\n",
    "    map_coastline_colour = widgets.Dropdown(description='map_coastline_colour', \n",
    "                                                 options = [\"navy\", \"evergreen\", \"charcoal\"], value='navy', \n",
    "                                                 style=style),\n",
    ")\n",
    "def plot(**kwargs):\n",
    "    data = magics.mgrib(grib_input_file_name = \"t850.grib\")\n",
    "    contour = magics.mcont(\n",
    "        legend                       = 'on',\n",
    "        contour                      = 'off',\n",
    "        contour_shade                = 'on',\n",
    "        contour_label                = 'off',\n",
    "        contour_level_selection_type = \"interval\",\n",
    "        contour_interval             = 5,\n",
    "        contour_shade_method         = 'area_fill',\n",
    "        contour_shade_palette_name   = \"m_yellow_red_16\",\n",
    "        contour_shade_colour_method  = \"palette\",\n",
    "        contour_shade_colour_list_policy = \"dynamic\",\n",
    "    )\n",
    "    coastlines = magics.mcoast()\n",
    "    metadata = magics.matplotlib_plot(data, contour, coastlines)\n",
    "    print (json.dumps(metadata, indent=2))"
   ]
  },
  {
   "cell_type": "code",
   "execution_count": null,
   "id": "f79d478c-97e2-45f8-bfb8-efc7c8762c1b",
   "metadata": {},
   "outputs": [],
   "source": []
  },
  {
   "cell_type": "code",
   "execution_count": null,
   "id": "dbb460f7-cbc1-4d6f-b46d-a6cc7fe8eb83",
   "metadata": {},
   "outputs": [],
   "source": [
    "\n"
   ]
  }
 ],
 "metadata": {
  "kernelspec": {
   "display_name": "Python 3 (ipykernel)",
   "language": "python",
   "name": "python3"
  },
  "language_info": {
   "codemirror_mode": {
    "name": "ipython",
    "version": 3
   },
   "file_extension": ".py",
   "mimetype": "text/x-python",
   "name": "python",
   "nbconvert_exporter": "python",
   "pygments_lexer": "ipython3",
   "version": "3.9.13"
  }
 },
 "nbformat": 4,
 "nbformat_minor": 5
}
