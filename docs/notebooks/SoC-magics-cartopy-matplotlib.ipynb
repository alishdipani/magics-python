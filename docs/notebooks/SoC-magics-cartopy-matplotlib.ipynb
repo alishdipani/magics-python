{
 "cells": [
  {
   "cell_type": "markdown",
   "id": "48fbb163-a7d7-4c34-93c1-442e061f4675",
   "metadata": {},
   "source": [
    "# Integration Magics-Matplotlib-cartopy\n",
    "\n",
    "\n",
    "Install ecmwlibs ( to get magics C++ library)\n",
    "pip install ecmwflibs==0.4.19rc1\n",
    "Install magics-python locally\n",
    "pip install -e ."
   ]
  },
  {
   "cell_type": "code",
   "execution_count": 22,
   "id": "20f9aa78-66d8-4714-a8a3-ed2b6d7f2401",
   "metadata": {},
   "outputs": [],
   "source": [
    "import pyproj\n",
    "from Magics import macro as magics\n",
    "import ipywidgets as widgets\n",
    "from ipywidgets import interact\n",
    "import matplotlib.pyplot as plt\n",
    "import numpy as np"
   ]
  },
  {
   "cell_type": "code",
   "execution_count": 23,
   "id": "c14dfca8-0b30-4037-b286-6a52ec0f55af",
   "metadata": {},
   "outputs": [
    {
     "data": {
      "text/plain": [
       "'Magics 4.13.0'"
      ]
     },
     "execution_count": 23,
     "metadata": {},
     "output_type": "execute_result"
    }
   ],
   "source": [
    "magics.version()"
   ]
  },
  {
   "cell_type": "markdown",
   "id": "abd9ba3f-e8ec-46bc-86a2-5faee7669c81",
   "metadata": {},
   "source": [
    "# Classic plot using magics-python + Magics C++library \n",
    "\n",
    "May need to install ecmwflibs first   \n",
    "pip install ecmwlibs \n",
    "\n",
    "Here we create a temporary png file, and we retun an Image to display\n"
   ]
  },
  {
   "cell_type": "code",
   "execution_count": 24,
   "id": "0b2cf913-1285-43a5-8558-2d600471ff5c",
   "metadata": {},
   "outputs": [
    {
     "data": {
      "application/vnd.jupyter.widget-view+json": {
       "model_id": "a5098cc8a734407e9e0e70d9ce4c30ab",
       "version_major": 2,
       "version_minor": 0
      },
      "text/plain": [
       "interactive(children=(Dropdown(description='map_coastline_resolution', options=('medium', 'high', 'low'), styl…"
      ]
     },
     "metadata": {},
     "output_type": "display_data"
    }
   ],
   "source": [
    "\n",
    "style = {'description_width': 'initial', 'width': 'max-content'}\n",
    "\n",
    "@interact(\n",
    "    map_coastline_resolution = widgets.Dropdown(description='map_coastline_resolution', \n",
    "                                                 options = [\"medium\", \"high\", \"low\"], value='medium', \n",
    "                                                 style=style),\n",
    "    map_coastline_colour = widgets.Dropdown(description='map_coastline_colour', \n",
    "                                                 options = [\"navy\", \"evergreen\", \"charcoal\"], value='navy', \n",
    "                                                 style=style),\n",
    ")\n",
    "def plot(**kwargs):\n",
    "    coastlines = magics.mcoast(kwargs)\n",
    "    return magics.plot(coastlines)\n",
    "    \n",
    "\n",
    "    "
   ]
  },
  {
   "cell_type": "markdown",
   "id": "13576510-2c47-4743-a186-96530cd90907",
   "metadata": {},
   "source": [
    "\n",
    "# Integration with cartopy and matplotlib \n",
    "\n",
    "We ask MagicsC++ to create an output in *binary format*.  \n",
    "We setup a matplotlib figure, and a projection using cartopy \n",
    "We use the binary reader to read the output, and convert  to matplotlib primitives \n",
    "WE ask cartopy to plot the coastlines. \n",
    "We can also add some other elements such as points on the plots. \n",
    "But the legend has to be fixed \n"
   ]
  },
  {
   "cell_type": "code",
   "execution_count": 35,
   "id": "4082a5e5-c832-4d3d-9a36-120104b37984",
   "metadata": {},
   "outputs": [
    {
     "data": {
      "application/vnd.jupyter.widget-view+json": {
       "model_id": "2c954b69325d42c98a8a03dfd6edb3a1",
       "version_major": 2,
       "version_minor": 0
      },
      "text/plain": [
       "interactive(children=(Dropdown(description='Projection', options=('mollweide', 'robinson', 'cylindrical'), sty…"
      ]
     },
     "metadata": {},
     "output_type": "display_data"
    }
   ],
   "source": [
    "import cartopy.crs as ccrs\n",
    "style = {'description_width': 'initial', 'width': 'max-content'}\n",
    "\n",
    "projections = {\n",
    "        \"mollweide\": ccrs.Mollweide(),\n",
    "        \"robinson\" : ccrs.Robinson(),\n",
    "        \"cylindrical\" : ccrs.PlateCarree()\n",
    "    }\n",
    "@interact(\n",
    "    projection = widgets.Dropdown(description='Projection', \n",
    "                                  options = projections.keys(), \n",
    "                                  style=style),\n",
    "    domain = widgets.RadioButtons(options=['global', 'sub-area'], \n",
    "                                  description='Domain',\n",
    "                                  style=style),\n",
    "    legend = widgets.RadioButtons(options=['on', 'off'], \n",
    "                                  value=\"off\",\n",
    "                                  description='Legend',\n",
    "                                  style=style),\n",
    ")\n",
    "def plot(projection, domain, legend):\n",
    "    area = magics.mmap(\n",
    "      subpage_map_projection = projection,\n",
    "    )\n",
    "    \n",
    "    data = magics.mgrib(grib_input_file_name = \"t850.grib\")\n",
    "    contour = magics.mcont(\n",
    "        legend                       = legend,\n",
    "        contour                      = 'off',\n",
    "        contour_shade                = 'on',\n",
    "        contour_label                = 'off',\n",
    "        contour_level_selection_type = \"interval\",\n",
    "        contour_interval             = 2.0,\n",
    "        contour_shade_method         = 'area_fill',\n",
    "        contour_shade_colour_method  = \"calculate\",\n",
    "        contour_shade_max_level_colour = \"red\",\n",
    "        contour_shade_min_level_colour = \"blue\",\n",
    "        contour_shade_colour_direction = \"clockwise\"\n",
    "        )\n",
    "        \n",
    "    coastlines = magics.mcoast()\n",
    "    legend = magics.mlegend(legend_display_type=\"continuous\" , \n",
    "                            legend_label_frequency=1, \n",
    "                            legend_entry_border = False)\n",
    "    \n",
    "    coastlines = magics.mcoast(map_coastline_colour=\"grey\")\n",
    "    fig = plt.figure(figsize=(20,20))\n",
    "    \n",
    "    axis = fig.add_subplot(1,1,1, projection=projections[projection])\n",
    "    magics.matplotlib_plot(area, data, contour, axes=axis)\n",
    "    axis.coastlines(color=\"black\", zorder=100)\n",
    "    axis.gridlines(color=\"black\", draw_labels=True, zorder=101)\n",
    "    plt.title(\"Magics and Cartopy\")\n",
    "    axis.scatter(-1,52, 200, transform=ccrs.Geodetic())\n",
    "    if  domain == \"sub-area\" :\n",
    "        axis.set_extent((-25, 45, 32, 72))\n",
    "    "
   ]
  },
  {
   "cell_type": "code",
   "execution_count": null,
   "id": "024a7418-c2cb-4798-9b0b-8ab81c14c202",
   "metadata": {},
   "outputs": [],
   "source": []
  }
 ],
 "metadata": {
  "kernelspec": {
   "display_name": "Python 3 (ipykernel)",
   "language": "python",
   "name": "python3"
  },
  "language_info": {
   "codemirror_mode": {
    "name": "ipython",
    "version": 3
   },
   "file_extension": ".py",
   "mimetype": "text/x-python",
   "name": "python",
   "nbconvert_exporter": "python",
   "pygments_lexer": "ipython3",
   "version": "3.9.12"
  },
  "vscode": {
   "interpreter": {
    "hash": "8aaf69d8bf7314bf170ed0eacc24105143dbdf802b859768961ac48636755ebb"
   }
  }
 },
 "nbformat": 4,
 "nbformat_minor": 5
}
